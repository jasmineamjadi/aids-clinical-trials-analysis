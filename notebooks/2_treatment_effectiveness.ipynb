{
 "cells": [
  {
   "cell_type": "markdown",
   "metadata": {},
   "source": [
    "# Analysis of Treatment Outcomes: Failure Event Proportions in AIDs Clinical Trials\n",
    "\n",
    "This notebook analyzes data from clinical trials investigating the effectiveness of monotherapy and combination treatments in minimizing the progression of human immunodeficiency virus (HIV). By examining failure event proportions across therapy types, I aim to determine whether there are significant differences in treatment outcomes. \n",
    "\n",
    "Statistical testing, specifically a Chi-Square test, is performed to evaluate the relationship between therapy types and failure events. Visualization is used to provide a representation of the results.\n",
    "\n",
    "## Hypotheses:\n",
    "\n",
    "- **Null Hypothesis (H₀):** the proportion of failure events is the same between montherapy and combination therapies. \n",
    "\n",
    "- **Alternative Hypothesis (Hᴀ):** there is a significant difference in the proportion of failure events between montherapy and combination therapies.\n",
    "\n",
    "----"
   ]
  },
  {
   "cell_type": "markdown",
   "metadata": {},
   "source": [
    "## Data Loading\n",
    "\n",
    "The preprocessed data is loaded and necessary packages are imported. The data is inspected to understand its structure. "
   ]
  },
  {
   "cell_type": "code",
   "execution_count": 493,
   "metadata": {},
   "outputs": [
    {
     "data": {
      "text/html": [
       "<div>\n",
       "<style scoped>\n",
       "    .dataframe tbody tr th:only-of-type {\n",
       "        vertical-align: middle;\n",
       "    }\n",
       "\n",
       "    .dataframe tbody tr th {\n",
       "        vertical-align: top;\n",
       "    }\n",
       "\n",
       "    .dataframe thead th {\n",
       "        text-align: right;\n",
       "    }\n",
       "</style>\n",
       "<table border=\"1\" class=\"dataframe\">\n",
       "  <thead>\n",
       "    <tr style=\"text-align: right;\">\n",
       "      <th></th>\n",
       "      <th>age</th>\n",
       "      <th>weight_kg</th>\n",
       "      <th>gender</th>\n",
       "      <th>baseline_cd4_count</th>\n",
       "      <th>treatment_type</th>\n",
       "      <th>time_to_event</th>\n",
       "      <th>event_status</th>\n",
       "    </tr>\n",
       "  </thead>\n",
       "  <tbody>\n",
       "    <tr>\n",
       "      <th>0</th>\n",
       "      <td>48.0</td>\n",
       "      <td>89.8128</td>\n",
       "      <td>Female</td>\n",
       "      <td>422.0</td>\n",
       "      <td>ZDV+ddC</td>\n",
       "      <td>948</td>\n",
       "      <td>0</td>\n",
       "    </tr>\n",
       "    <tr>\n",
       "      <th>1</th>\n",
       "      <td>56.5</td>\n",
       "      <td>49.4424</td>\n",
       "      <td>Female</td>\n",
       "      <td>162.0</td>\n",
       "      <td>ddI</td>\n",
       "      <td>1002</td>\n",
       "      <td>1</td>\n",
       "    </tr>\n",
       "    <tr>\n",
       "      <th>2</th>\n",
       "      <td>45.0</td>\n",
       "      <td>88.4520</td>\n",
       "      <td>Male</td>\n",
       "      <td>326.0</td>\n",
       "      <td>ddI</td>\n",
       "      <td>961</td>\n",
       "      <td>0</td>\n",
       "    </tr>\n",
       "    <tr>\n",
       "      <th>3</th>\n",
       "      <td>47.0</td>\n",
       "      <td>85.2768</td>\n",
       "      <td>Male</td>\n",
       "      <td>287.0</td>\n",
       "      <td>ddI</td>\n",
       "      <td>1166</td>\n",
       "      <td>0</td>\n",
       "    </tr>\n",
       "    <tr>\n",
       "      <th>4</th>\n",
       "      <td>43.0</td>\n",
       "      <td>66.6792</td>\n",
       "      <td>Male</td>\n",
       "      <td>504.0</td>\n",
       "      <td>ZDV</td>\n",
       "      <td>1090</td>\n",
       "      <td>0</td>\n",
       "    </tr>\n",
       "  </tbody>\n",
       "</table>\n",
       "</div>"
      ],
      "text/plain": [
       "    age  weight_kg  gender  baseline_cd4_count treatment_type  time_to_event  \\\n",
       "0  48.0    89.8128  Female               422.0        ZDV+ddC            948   \n",
       "1  56.5    49.4424  Female               162.0            ddI           1002   \n",
       "2  45.0    88.4520    Male               326.0            ddI            961   \n",
       "3  47.0    85.2768    Male               287.0            ddI           1166   \n",
       "4  43.0    66.6792    Male               504.0            ZDV           1090   \n",
       "\n",
       "   event_status  \n",
       "0             0  \n",
       "1             1  \n",
       "2             0  \n",
       "3             0  \n",
       "4             0  "
      ]
     },
     "metadata": {},
     "output_type": "display_data"
    }
   ],
   "source": [
    "# Import packages\n",
    "from helpers import printmd # to format output in Markdown\n",
    "import pandas as pd\n",
    "from scipy.stats import chi2_contingency\n",
    "import matplotlib.pyplot as plt\n",
    "import seaborn as sns\n",
    "\n",
    "# Load the dataset\n",
    "file_path = '../data/processed/aids_clinical_trials_cleaned.csv'\n",
    "aids_trials = pd.read_csv(file_path)\n",
    "display(aids_trials.head())"
   ]
  },
  {
   "cell_type": "markdown",
   "metadata": {},
   "source": [
    "-----\n",
    "\n",
    "## Proportion of Failure Events by Treatment\n",
    "\n",
    "The proportion of failure events for each treatment is calculated to identify which treatment had the lowest proportion of failures."
   ]
  },
  {
   "cell_type": "code",
   "execution_count": 495,
   "metadata": {},
   "outputs": [
    {
     "data": {
      "text/markdown": [
       "**Proportion of Failure Events by Treatment:**\n"
      ],
      "text/plain": [
       "<IPython.core.display.Markdown object>"
      ]
     },
     "metadata": {},
     "output_type": "display_data"
    },
    {
     "data": {
      "text/html": [
       "<div>\n",
       "<style scoped>\n",
       "    .dataframe tbody tr th:only-of-type {\n",
       "        vertical-align: middle;\n",
       "    }\n",
       "\n",
       "    .dataframe tbody tr th {\n",
       "        vertical-align: top;\n",
       "    }\n",
       "\n",
       "    .dataframe thead th {\n",
       "        text-align: right;\n",
       "    }\n",
       "</style>\n",
       "<table border=\"1\" class=\"dataframe\">\n",
       "  <thead>\n",
       "    <tr style=\"text-align: right;\">\n",
       "      <th></th>\n",
       "      <th>treatment_type</th>\n",
       "      <th>failure_prop</th>\n",
       "    </tr>\n",
       "  </thead>\n",
       "  <tbody>\n",
       "    <tr>\n",
       "      <th>0</th>\n",
       "      <td>ZDV</td>\n",
       "      <td>0.340226</td>\n",
       "    </tr>\n",
       "    <tr>\n",
       "      <th>1</th>\n",
       "      <td>ZDV+ddC</td>\n",
       "      <td>0.208015</td>\n",
       "    </tr>\n",
       "    <tr>\n",
       "      <th>2</th>\n",
       "      <td>ZDV+ddI</td>\n",
       "      <td>0.197318</td>\n",
       "    </tr>\n",
       "    <tr>\n",
       "      <th>3</th>\n",
       "      <td>ddI</td>\n",
       "      <td>0.228164</td>\n",
       "    </tr>\n",
       "  </tbody>\n",
       "</table>\n",
       "</div>"
      ],
      "text/plain": [
       "  treatment_type  failure_prop\n",
       "0            ZDV      0.340226\n",
       "1        ZDV+ddC      0.208015\n",
       "2        ZDV+ddI      0.197318\n",
       "3            ddI      0.228164"
      ]
     },
     "metadata": {},
     "output_type": "display_data"
    },
    {
     "data": {
      "text/markdown": [
       "**Treatment with Lowest Proportion of Failure Events:**"
      ],
      "text/plain": [
       "<IPython.core.display.Markdown object>"
      ]
     },
     "metadata": {},
     "output_type": "display_data"
    },
    {
     "data": {
      "text/plain": [
       "treatment_type     ZDV+ddI\n",
       "failure_prop      0.197318\n",
       "Name: 2, dtype: object"
      ]
     },
     "metadata": {},
     "output_type": "display_data"
    }
   ],
   "source": [
    "# Calculate failure event proportions by treatment groups\n",
    "treatment_failure_prop = aids_trials.groupby('treatment_type')['event_status'].mean().reset_index()\n",
    "treatment_failure_prop.rename(columns={'event_status':'failure_prop'}, inplace=True)\n",
    "printmd('**Proportion of Failure Events by Treatment:**\\n')\n",
    "display(treatment_failure_prop)\n",
    "\n",
    "# Identify the treatment group with the lowest proportion of failures\n",
    "lowest_failure_treatment = treatment_failure_prop.loc[treatment_failure_prop['failure_prop'].idxmin()]\n",
    "printmd('**Treatment with Lowest Proportion of Failure Events:**')\n",
    "display(lowest_failure_treatment)"
   ]
  },
  {
   "cell_type": "markdown",
   "metadata": {},
   "source": [
    "----\n",
    "\n",
    "## Proportion of Failure Events by Therapy Type\n",
    "\n",
    "The proportion of failure events for monotherapy and combination therapy is calculated to identify which type of therapy had the lowest proportion of failures."
   ]
  },
  {
   "cell_type": "code",
   "execution_count": 497,
   "metadata": {},
   "outputs": [
    {
     "data": {
      "text/markdown": [
       "**Proportion of Failure Events by Therapy Type:**\n"
      ],
      "text/plain": [
       "<IPython.core.display.Markdown object>"
      ]
     },
     "metadata": {},
     "output_type": "display_data"
    },
    {
     "data": {
      "text/html": [
       "<div>\n",
       "<style scoped>\n",
       "    .dataframe tbody tr th:only-of-type {\n",
       "        vertical-align: middle;\n",
       "    }\n",
       "\n",
       "    .dataframe tbody tr th {\n",
       "        vertical-align: top;\n",
       "    }\n",
       "\n",
       "    .dataframe thead th {\n",
       "        text-align: right;\n",
       "    }\n",
       "</style>\n",
       "<table border=\"1\" class=\"dataframe\">\n",
       "  <thead>\n",
       "    <tr style=\"text-align: right;\">\n",
       "      <th></th>\n",
       "      <th>therapy_type</th>\n",
       "      <th>failure_prop</th>\n",
       "    </tr>\n",
       "  </thead>\n",
       "  <tbody>\n",
       "    <tr>\n",
       "      <th>0</th>\n",
       "      <td>Combination</td>\n",
       "      <td>0.202677</td>\n",
       "    </tr>\n",
       "    <tr>\n",
       "      <th>1</th>\n",
       "      <td>Monotherapy</td>\n",
       "      <td>0.282708</td>\n",
       "    </tr>\n",
       "  </tbody>\n",
       "</table>\n",
       "</div>"
      ],
      "text/plain": [
       "  therapy_type  failure_prop\n",
       "0  Combination      0.202677\n",
       "1  Monotherapy      0.282708"
      ]
     },
     "metadata": {},
     "output_type": "display_data"
    },
    {
     "data": {
      "text/markdown": [
       "**Treatment with Lowest Proportion of Failure Types:**"
      ],
      "text/plain": [
       "<IPython.core.display.Markdown object>"
      ]
     },
     "metadata": {},
     "output_type": "display_data"
    },
    {
     "data": {
      "text/plain": [
       "therapy_type    Combination\n",
       "failure_prop       0.202677\n",
       "Name: 0, dtype: object"
      ]
     },
     "metadata": {},
     "output_type": "display_data"
    }
   ],
   "source": [
    "#  Categorize therapies as combination or monotherapy\n",
    "aids_trials['therapy_type'] = aids_trials['treatment_type'].apply(lambda x: 'Combination' if '+' in x else 'Monotherapy')\n",
    "\n",
    "# Calculate failure event proportions by therapy type\n",
    "therapy_failure_prop = aids_trials.groupby('therapy_type')['event_status'].mean().reset_index()\n",
    "therapy_failure_prop.rename(columns={'event_status':'failure_prop'}, inplace=True)\n",
    "printmd('**Proportion of Failure Events by Therapy Type:**\\n')\n",
    "display(therapy_failure_prop)\n",
    "\n",
    "# Identify the type of therapy with the lowest proportion of failures\n",
    "lowest_failure_type = therapy_failure_prop.loc[therapy_failure_prop['failure_prop'].idxmin()]\n",
    "printmd('**Treatment with Lowest Proportion of Failure Types:**')\n",
    "display(lowest_failure_type)"
   ]
  },
  {
   "cell_type": "markdown",
   "metadata": {},
   "source": [
    "## Chi-Square Test of Independence\n",
    "\n",
    "A Chi-Square test is performed to examine if there is a significant difference in the proportion of failure events between therapy types."
   ]
  },
  {
   "cell_type": "code",
   "execution_count": 499,
   "metadata": {},
   "outputs": [
    {
     "data": {
      "text/markdown": [
       "**Chi-Square Statistic:**"
      ],
      "text/plain": [
       "<IPython.core.display.Markdown object>"
      ]
     },
     "metadata": {},
     "output_type": "display_data"
    },
    {
     "name": "stdout",
     "output_type": "stream",
     "text": [
      "18.15\n"
     ]
    },
    {
     "data": {
      "text/markdown": [
       "**P-Value:**"
      ],
      "text/plain": [
       "<IPython.core.display.Markdown object>"
      ]
     },
     "metadata": {},
     "output_type": "display_data"
    },
    {
     "name": "stdout",
     "output_type": "stream",
     "text": [
      "0.00002\n",
      "\n",
      "The difference in the proportion of failure events between monotherapy and combination therapies is statistically significant.\n"
     ]
    }
   ],
   "source": [
    "# Perform Chi-Square test\n",
    "crosstab = pd.crosstab(aids_trials['therapy_type'], aids_trials['event_status'])\n",
    "chi2, p, dof, expected = chi2_contingency(crosstab)\n",
    "printmd('**Chi-Square Statistic:**')\n",
    "print(f'{chi2:.2f}')\n",
    "printmd('**P-Value:**')\n",
    "print(f'{p:.5f}')\n",
    "\n",
    "\n",
    "# Interpret Chi-Square test results\n",
    "alpha = 0.05\n",
    "if p < alpha:\n",
    "    print('\\nThe difference in the proportion of failure events between monotherapy and combination therapies is statistically significant.')\n",
    "else:\n",
    "    print('\\nThere is no significant difference in the proportion of failure events between monotherapy and combination therapies.')\n"
   ]
  },
  {
   "cell_type": "markdown",
   "metadata": {},
   "source": [
    "----\n",
    "\n",
    "## Visualization: Failure Proportions by Therapy Type"
   ]
  },
  {
   "cell_type": "code",
   "execution_count": 501,
   "metadata": {},
   "outputs": [
    {
     "data": {
      "image/png": "[encoded data removed]",
      "text/plain": [
       "<Figure size 1000x600 with 1 Axes>"
      ]
     },
     "metadata": {},
     "output_type": "display_data"
    }
   ],
   "source": [
    "# Convert failure event proportions to percentages\n",
    "therapy_failure_prop['failure_prop'] = therapy_failure_prop['failure_prop'] * 100\n",
    "\n",
    "# Create a bar chart\n",
    "plt.figure(figsize=(10, 6))\n",
    "sns.set_style('whitegrid')\n",
    "\n",
    "sns.barplot(\n",
    "    data=therapy_failure_prop,\n",
    "    x='therapy_type',\n",
    "    y='failure_prop',\n",
    "    hue='therapy_type',\n",
    "    palette='coolwarm',\n",
    ")\n",
    "\n",
    "\n",
    "plt.ylim(0, 40)\n",
    "plt.title('Failure Proportions: Combination vs. Monotherapy', fontsize=16)\n",
    "plt.xlabel('Therapy Type', fontsize=14)\n",
    "plt.ylabel('Percentage of Failures (%)', fontsize=14)\n",
    "plt.tight_layout()\n",
    "plt.show()"
   ]
  },
  {
   "cell_type": "markdown",
   "metadata": {},
   "source": [
    "# Results and Discussion\n",
    "\n",
    "**Proportion of Failure Events by Treatment Group and Treatment Type**\n",
    "- The proportion of failure events for each treatment group are:\n",
    "  * **ZDV:** 34.02%\n",
    "  * **ddI:** 22.82%\n",
    "  * **ZDV + ddC:** 20.80%\n",
    "  * **ZDV + ddI:** 19.73% (lowest failure proportion)\n",
    "\n",
    "\n",
    "- Combination therapies exhibit a lower proportion of failures (**20.27%**) when compared to monotherapy (**28.27%**)\n",
    "\n",
    "**Chi-Square Test Results**\n",
    "- **Chi-Square Statistic:** 18.15\n",
    "- **P-Value:** 0.00002\n",
    "  \n",
    "- **Interpretation:** Since the p-value < 0.05, the difference in the proportion of failure events between monotherapy and combination therapies is statistically significant. We reject the null hypothesis that failure event proportions are independent of therapy type."
   ]
  }
 ],
 "metadata": {
  "kernelspec": {
   "display_name": "Python 3 (ipykernel)",
   "language": "python",
   "name": "python3"
  },
  "language_info": {
   "codemirror_mode": {
    "name": "ipython",
    "version": 3
   },
   "file_extension": ".py",
   "mimetype": "text/x-python",
   "name": "python",
   "nbconvert_exporter": "python",
   "pygments_lexer": "ipython3",
   "version": "3.12.4"
  }
 },
 "nbformat": 4,
 "nbformat_minor": 4
}
